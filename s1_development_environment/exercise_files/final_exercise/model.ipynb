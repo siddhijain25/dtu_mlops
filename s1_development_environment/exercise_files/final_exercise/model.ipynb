{
 "cells": [
  {
   "cell_type": "code",
   "execution_count": 1,
   "metadata": {},
   "outputs": [],
   "source": [
    "from torch import nn\n"
   ]
  },
  {
   "cell_type": "code",
   "execution_count": 11,
   "metadata": {},
   "outputs": [],
   "source": [
    "import torch\n",
    "import numpy as np\n",
    "import os\n",
    "import glob\n",
    "\n",
    "\n",
    "def mnist():\n",
    "   # initialize data arrays\n",
    "    X_train = []\n",
    "    y_train = []\n",
    "    X_test = []\n",
    "    y_test = []\n",
    "\n",
    "    # search all files inside a specific folder\n",
    "    # *.npz means file name only with npz extension\n",
    "    dir_path = r'C:/Users/Siddhi/Documents/GitHub/dtu_mlops/data/corruptmnist/*.npz'\n",
    "    for file in glob.glob(dir_path, recursive=True):\n",
    "        # save the data and labels for each of the train and test files\n",
    "        # save training first\n",
    "        if 'train' in file:\n",
    "            X_train.append(np.load(str(file))['images'])\n",
    "            y_train.append(np.load(str(file))['labels'])\n",
    "        # save test second\n",
    "        elif 'test' in file:\n",
    "            X_test.append(np.load(str(file))['images'])\n",
    "            y_test.append(np.load(str(file))['labels'])\n",
    "    # return train, test\n",
    "    return (X_train, y_train) , (X_test, y_test)\n"
   ]
  },
  {
   "cell_type": "code",
   "execution_count": 13,
   "metadata": {},
   "outputs": [],
   "source": [
    "import torch\n",
    "import numpy as np\n",
    "import glob\n",
    "\n",
    "class dataset:\n",
    "    def __init__(self,data,target):\n",
    "        self.data = data\n",
    "        self.target = target\n",
    "    \n",
    "    def __len__(self):\n",
    "        return len(self.data)\n",
    "    \n",
    "    def __getitem__(self,idx):\n",
    "        if torch.is_tensor(idx):\n",
    "            idx = idx.tolist()\n",
    "        X = self.data[idx]\n",
    "        y = self.target[idx]\n",
    "        \n",
    "        return X,y\n",
    "\n",
    "def mnist():\n",
    "    # exchange with the corrupted mnist dataset\n",
    "    train_files = glob.glob(\"C:/Users/Siddhi/Documents/GitHub/dtu_mlops/data/corruptmnist/train*.npz\")\n",
    "    test_files = glob.glob(\"C:/Users/Siddhi/Documents/GitHub/dtu_mlops/data/corruptmnist/test*.npz\")\n",
    "\n",
    "    images = []\n",
    "    labels = []\n",
    "    for file in train_files:\n",
    "        data = np.load(file)\n",
    "        images.append(data['images'])\n",
    "        labels.append(data['labels'])\n",
    "    train_images = np.concatenate((images),axis=0)\n",
    "    train_labels = np.concatenate((labels),axis=0)\n",
    "\n",
    "    images = []\n",
    "    labels = []\n",
    "    for file in test_files:\n",
    "        data = np.load(file)\n",
    "        images.append(data['images'])\n",
    "        labels.append(data['labels'])\n",
    "    test_images = np.concatenate((images),axis=0)\n",
    "    test_labels = np.concatenate((labels),axis=0)\n",
    "\n",
    "    train_images = torch.from_numpy(train_images).float()\n",
    "    train_labels = torch.from_numpy(train_labels).long()\n",
    "\n",
    "    test_images = torch.from_numpy(test_images).float()\n",
    "    test_labels = torch.from_numpy(test_labels).long()\n",
    "\n",
    "    train = dataset(train_images,train_labels)\n",
    "    test = dataset(test_images,test_labels) \n",
    "    return train, test\n"
   ]
  },
  {
   "cell_type": "code",
   "execution_count": 14,
   "metadata": {},
   "outputs": [
    {
     "data": {
      "text/plain": [
       "(<__main__.dataset at 0x2bd70ea5b50>, <__main__.dataset at 0x2bd6fe2d670>)"
      ]
     },
     "execution_count": 14,
     "metadata": {},
     "output_type": "execute_result"
    }
   ],
   "source": [
    "mnist()"
   ]
  },
  {
   "cell_type": "code",
   "execution_count": null,
   "metadata": {},
   "outputs": [],
   "source": []
  }
 ],
 "metadata": {
  "kernelspec": {
   "display_name": "Python 3",
   "language": "python",
   "name": "python3"
  },
  "language_info": {
   "codemirror_mode": {
    "name": "ipython",
    "version": 3
   },
   "file_extension": ".py",
   "mimetype": "text/x-python",
   "name": "python",
   "nbconvert_exporter": "python",
   "pygments_lexer": "ipython3",
   "version": "3.9.7"
  },
  "orig_nbformat": 4,
  "vscode": {
   "interpreter": {
    "hash": "e63b49472c39f650d334fcaecf400cc6421242f801449cc3977f35a9135a2cc7"
   }
  }
 },
 "nbformat": 4,
 "nbformat_minor": 2
}
