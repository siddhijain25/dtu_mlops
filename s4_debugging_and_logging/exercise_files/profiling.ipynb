{
 "cells": [
  {
   "cell_type": "code",
   "execution_count": 1,
   "metadata": {},
   "outputs": [
    {
     "name": "stdout",
     "output_type": "stream",
     "text": [
      "1.13.1+cpu\n"
     ]
    }
   ],
   "source": [
    "import torch\n",
    "print(torch.__version__)"
   ]
  },
  {
   "cell_type": "code",
   "execution_count": 2,
   "metadata": {},
   "outputs": [],
   "source": [
    "import torch\n",
    "import torchvision.models as models\n",
    "from torch.profiler import profile, ProfilerActivity\n",
    "\n",
    "model = models.resnet18()\n",
    "inputs = torch.randn(5, 3, 224, 224)\n",
    "\n",
    "with profile(activities=[ProfilerActivity.CPU], record_shapes=True) as prof:\n",
    "   model(inputs)\n"
   ]
  },
  {
   "cell_type": "code",
   "execution_count": 3,
   "metadata": {},
   "outputs": [
    {
     "name": "stdout",
     "output_type": "stream",
     "text": [
      "---------------------------------  ------------  ------------  ------------  ------------  ------------  ------------  \n",
      "                             Name    Self CPU %      Self CPU   CPU total %     CPU total  CPU time avg    # of Calls  \n",
      "---------------------------------  ------------  ------------  ------------  ------------  ------------  ------------  \n",
      "                     aten::conv2d         0.07%     272.000us        78.32%     313.464ms      15.673ms            20  \n",
      "                aten::convolution         0.20%     785.000us        78.26%     313.192ms      15.660ms            20  \n",
      "               aten::_convolution         0.11%     446.000us        78.06%     312.407ms      15.620ms            20  \n",
      "         aten::mkldnn_convolution        77.76%     311.219ms        77.95%     311.961ms      15.598ms            20  \n",
      "                 aten::batch_norm         0.04%     174.000us         9.83%      39.354ms       1.968ms            20  \n",
      "     aten::_batch_norm_impl_index         0.12%     462.000us         9.79%      39.180ms       1.959ms            20  \n",
      "          aten::native_batch_norm         9.43%      37.729ms         9.65%      38.624ms       1.931ms            20  \n",
      "                 aten::max_pool2d         0.01%      46.000us         8.00%      32.035ms      32.035ms             1  \n",
      "    aten::max_pool2d_with_indices         7.99%      31.989ms         7.99%      31.989ms      31.989ms             1  \n",
      "                      aten::relu_         0.13%     515.000us         2.36%       9.454ms     556.118us            17  \n",
      "---------------------------------  ------------  ------------  ------------  ------------  ------------  ------------  \n",
      "Self CPU time total: 400.212ms\n",
      "\n"
     ]
    }
   ],
   "source": [
    "print(prof.key_averages().table(sort_by=\"cpu_time_total\", row_limit=10))\n"
   ]
  },
  {
   "cell_type": "code",
   "execution_count": 4,
   "metadata": {},
   "outputs": [
    {
     "name": "stdout",
     "output_type": "stream",
     "text": [
      "---------------------------------  ------------  ------------  ------------  ------------  ------------  ------------  --------------------------------------------------------------------------------  \n",
      "                             Name    Self CPU %      Self CPU   CPU total %     CPU total  CPU time avg    # of Calls                                                                      Input Shapes  \n",
      "---------------------------------  ------------  ------------  ------------  ------------  ------------  ------------  --------------------------------------------------------------------------------  \n",
      "                     aten::conv2d         0.01%      33.000us        17.87%      71.510ms      17.878ms             4                             [[5, 64, 56, 56], [64, 64, 3, 3], [], [], [], [], []]  \n",
      "                aten::convolution         0.03%     131.000us        17.86%      71.477ms      17.869ms             4                     [[5, 64, 56, 56], [64, 64, 3, 3], [], [], [], [], [], [], []]  \n",
      "               aten::_convolution         0.02%      65.000us        17.83%      71.346ms      17.837ms             4     [[5, 64, 56, 56], [64, 64, 3, 3], [], [], [], [], [], [], [], [], [], [], []]  \n",
      "         aten::mkldnn_convolution        17.77%      71.128ms        17.81%      71.281ms      17.820ms             4                             [[5, 64, 56, 56], [64, 64, 3, 3], [], [], [], [], []]  \n",
      "                     aten::conv2d         0.01%      23.000us        15.30%      61.247ms      20.416ms             3                            [[5, 512, 7, 7], [512, 512, 3, 3], [], [], [], [], []]  \n",
      "                aten::convolution         0.03%     104.000us        15.30%      61.224ms      20.408ms             3                    [[5, 512, 7, 7], [512, 512, 3, 3], [], [], [], [], [], [], []]  \n",
      "               aten::_convolution         0.01%      48.000us        15.27%      61.120ms      20.373ms             3    [[5, 512, 7, 7], [512, 512, 3, 3], [], [], [], [], [], [], [], [], [], [], []]  \n",
      "         aten::mkldnn_convolution        15.25%      61.013ms        15.26%      61.072ms      20.357ms             3                            [[5, 512, 7, 7], [512, 512, 3, 3], [], [], [], [], []]  \n",
      "                     aten::conv2d         0.01%      26.000us        12.18%      48.762ms      16.254ms             3                          [[5, 128, 28, 28], [128, 128, 3, 3], [], [], [], [], []]  \n",
      "                aten::convolution         0.02%      85.000us        12.18%      48.736ms      16.245ms             3                  [[5, 128, 28, 28], [128, 128, 3, 3], [], [], [], [], [], [], []]  \n",
      "               aten::_convolution         0.01%      60.000us        12.16%      48.651ms      16.217ms             3  [[5, 128, 28, 28], [128, 128, 3, 3], [], [], [], [], [], [], [], [], [], [], []]  \n",
      "         aten::mkldnn_convolution        12.10%      48.436ms        12.14%      48.591ms      16.197ms             3                          [[5, 128, 28, 28], [128, 128, 3, 3], [], [], [], [], []]  \n",
      "                     aten::conv2d         0.01%      25.000us        11.19%      44.766ms      14.922ms             3                          [[5, 256, 14, 14], [256, 256, 3, 3], [], [], [], [], []]  \n",
      "                aten::convolution         0.02%      82.000us        11.18%      44.741ms      14.914ms             3                  [[5, 256, 14, 14], [256, 256, 3, 3], [], [], [], [], [], [], []]  \n",
      "               aten::_convolution         0.01%      60.000us        11.16%      44.659ms      14.886ms             3  [[5, 256, 14, 14], [256, 256, 3, 3], [], [], [], [], [], [], [], [], [], [], []]  \n",
      "         aten::mkldnn_convolution        11.13%      44.530ms        11.14%      44.599ms      14.866ms             3                          [[5, 256, 14, 14], [256, 256, 3, 3], [], [], [], [], []]  \n",
      "                     aten::conv2d         0.03%     104.000us         9.48%      37.924ms      37.924ms             1                             [[5, 3, 224, 224], [64, 3, 7, 7], [], [], [], [], []]  \n",
      "                aten::convolution         0.05%     184.000us         9.45%      37.820ms      37.820ms             1                     [[5, 3, 224, 224], [64, 3, 7, 7], [], [], [], [], [], [], []]  \n",
      "               aten::_convolution         0.03%     111.000us         9.40%      37.636ms      37.636ms             1     [[5, 3, 224, 224], [64, 3, 7, 7], [], [], [], [], [], [], [], [], [], [], []]  \n",
      "         aten::mkldnn_convolution         9.36%      37.447ms         9.38%      37.525ms      37.525ms             1                             [[5, 3, 224, 224], [64, 3, 7, 7], [], [], [], [], []]  \n",
      "                 aten::max_pool2d         0.01%      46.000us         8.00%      32.035ms      32.035ms             1                                           [[5, 64, 112, 112], [], [], [], [], []]  \n",
      "    aten::max_pool2d_with_indices         7.99%      31.989ms         7.99%      31.989ms      31.989ms             1                                           [[5, 64, 112, 112], [], [], [], [], []]  \n",
      "                     aten::conv2d         0.00%      11.000us         3.55%      14.223ms      14.223ms             1                          [[5, 128, 28, 28], [256, 128, 3, 3], [], [], [], [], []]  \n",
      "                aten::convolution         0.01%      33.000us         3.55%      14.212ms      14.212ms             1                  [[5, 128, 28, 28], [256, 128, 3, 3], [], [], [], [], [], [], []]  \n",
      "               aten::_convolution         0.00%      20.000us         3.54%      14.179ms      14.179ms             1  [[5, 128, 28, 28], [256, 128, 3, 3], [], [], [], [], [], [], [], [], [], [], []]  \n",
      "         aten::mkldnn_convolution         3.53%      14.115ms         3.54%      14.159ms      14.159ms             1                          [[5, 128, 28, 28], [256, 128, 3, 3], [], [], [], [], []]  \n",
      "                     aten::conv2d         0.00%      12.000us         3.30%      13.196ms      13.196ms             1                            [[5, 64, 56, 56], [128, 64, 3, 3], [], [], [], [], []]  \n",
      "                aten::convolution         0.01%      38.000us         3.29%      13.184ms      13.184ms             1                    [[5, 64, 56, 56], [128, 64, 3, 3], [], [], [], [], [], [], []]  \n",
      "               aten::_convolution         0.00%      20.000us         3.28%      13.146ms      13.146ms             1    [[5, 64, 56, 56], [128, 64, 3, 3], [], [], [], [], [], [], [], [], [], [], []]  \n",
      "                 aten::batch_norm         0.01%      28.000us         3.28%      13.134ms       3.284ms             4                         [[5, 64, 56, 56], [64], [64], [64], [64], [], [], [], []]  \n",
      "---------------------------------  ------------  ------------  ------------  ------------  ------------  ------------  --------------------------------------------------------------------------------  \n",
      "Self CPU time total: 400.212ms\n",
      "\n"
     ]
    }
   ],
   "source": [
    "print(prof.key_averages(group_by_input_shape=True).table(sort_by=\"cpu_time_total\", row_limit=30))\n"
   ]
  },
  {
   "cell_type": "code",
   "execution_count": 5,
   "metadata": {},
   "outputs": [],
   "source": [
    "prof.export_chrome_trace(\"trace.json\")"
   ]
  },
  {
   "cell_type": "markdown",
   "metadata": {},
   "source": []
  },
  {
   "cell_type": "markdown",
   "metadata": {},
   "source": []
  },
  {
   "cell_type": "code",
   "execution_count": 7,
   "metadata": {},
   "outputs": [],
   "source": [
    "with profile(activities=[ProfilerActivity.CPU], record_shapes=True) as prof:\n",
    "   for i in range(10):\n",
    "      model(inputs)\n",
    "      prof.step()"
   ]
  },
  {
   "cell_type": "code",
   "execution_count": 8,
   "metadata": {},
   "outputs": [
    {
     "name": "stdout",
     "output_type": "stream",
     "text": [
      "---------------------------------  ------------  ------------  ------------  ------------  ------------  ------------  \n",
      "                             Name    Self CPU %      Self CPU   CPU total %     CPU total  CPU time avg    # of Calls  \n",
      "---------------------------------  ------------  ------------  ------------  ------------  ------------  ------------  \n",
      "                     aten::conv2d         0.05%       1.718ms        77.34%        2.779s      13.897ms           200  \n",
      "                aten::convolution         0.18%       6.336ms        77.29%        2.778s      13.888ms           200  \n",
      "               aten::_convolution         0.09%       3.228ms        77.11%        2.771s      13.857ms           200  \n",
      "         aten::mkldnn_convolution        76.84%        2.762s        77.02%        2.768s      13.841ms           200  \n",
      "                 aten::batch_norm         0.03%       1.209ms        11.16%     401.103ms       2.006ms           200  \n",
      "     aten::_batch_norm_impl_index         0.08%       2.962ms        11.13%     399.894ms       1.999ms           200  \n",
      "          aten::native_batch_norm        10.83%     389.187ms        11.03%     396.243ms       1.981ms           200  \n",
      "                 aten::max_pool2d         0.00%     116.000us         8.15%     292.891ms      29.289ms            10  \n",
      "    aten::max_pool2d_with_indices         8.15%     292.775ms         8.15%     292.775ms      29.277ms            10  \n",
      "                      aten::relu_         0.11%       3.895ms         2.41%      86.512ms     508.894us           170  \n",
      "---------------------------------  ------------  ------------  ------------  ------------  ------------  ------------  \n",
      "Self CPU time total: 3.594s\n",
      "\n"
     ]
    }
   ],
   "source": [
    "print(prof.key_averages().table(sort_by=\"cpu_time_total\", row_limit=10))"
   ]
  },
  {
   "cell_type": "markdown",
   "metadata": {},
   "source": []
  },
  {
   "cell_type": "code",
   "execution_count": 13,
   "metadata": {},
   "outputs": [],
   "source": [
    "from torch.profiler import profile, tensorboard_trace_handler\n",
    "with profile(activities=[ProfilerActivity.CPU], record_shapes=True, on_trace_ready=tensorboard_trace_handler(\"./log/resnet18\")) as prof:\n",
    "   for i in range(10):\n",
    "      model(inputs)\n",
    "      prof.step()"
   ]
  },
  {
   "cell_type": "code",
   "execution_count": 14,
   "metadata": {},
   "outputs": [
    {
     "ename": "SyntaxError",
     "evalue": "cannot assign to operator (946937149.py, line 1)",
     "output_type": "error",
     "traceback": [
      "\u001b[1;36m  Input \u001b[1;32mIn [14]\u001b[1;36m\u001b[0m\n\u001b[1;33m    tensorboard --logdir=./log\u001b[0m\n\u001b[1;37m    ^\u001b[0m\n\u001b[1;31mSyntaxError\u001b[0m\u001b[1;31m:\u001b[0m cannot assign to operator\n"
     ]
    }
   ],
   "source": []
  },
  {
   "cell_type": "code",
   "execution_count": null,
   "metadata": {},
   "outputs": [],
   "source": []
  }
 ],
 "metadata": {
  "kernelspec": {
   "display_name": "mlops",
   "language": "python",
   "name": "python3"
  },
  "language_info": {
   "codemirror_mode": {
    "name": "ipython",
    "version": 3
   },
   "file_extension": ".py",
   "mimetype": "text/x-python",
   "name": "python",
   "nbconvert_exporter": "python",
   "pygments_lexer": "ipython3",
   "version": "3.9.15"
  },
  "orig_nbformat": 4,
  "vscode": {
   "interpreter": {
    "hash": "3c7e0e730f6b012c9b4e8e9f55678babf3d101e1773f03964f1646fe97f26298"
   }
  }
 },
 "nbformat": 4,
 "nbformat_minor": 2
}
